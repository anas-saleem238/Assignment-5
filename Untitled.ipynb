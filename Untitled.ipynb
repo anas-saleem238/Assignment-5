{
 "cells": [
  {
   "cell_type": "code",
   "execution_count": 1,
   "id": "20d172ad-31f4-463f-b5d2-b332e4c2a783",
   "metadata": {},
   "outputs": [
    {
     "name": "stdout",
     "output_type": "stream",
     "text": [
      "\n",
      "* \n",
      "* * \n",
      "* * * \n",
      "* * * * \n",
      "* * * * * \n",
      "* * * * \n",
      "* * * \n",
      "* * \n",
      "* \n"
     ]
    }
   ],
   "source": [
    "a = 5\n",
    "for b in range(6):\n",
    "    for c in range(b):\n",
    "     print('*', end=' ')\n",
    "    print('')\n",
    "\n",
    "for b in range(a - 1, 0, -1):\n",
    "    for c in range(b):\n",
    "        print('*', end=' ')\n",
    "    print()"
   ]
  },
  {
   "cell_type": "code",
   "execution_count": 2,
   "id": "55e71751-ee74-4408-ab0a-3ac27a19c80e",
   "metadata": {},
   "outputs": [
    {
     "name": "stdin",
     "output_type": "stream",
     "text": [
      " e\n"
     ]
    },
    {
     "name": "stdout",
     "output_type": "stream",
     "text": [
      "This is a vowel\n"
     ]
    }
   ],
   "source": [
    "user_input = input().strip()\n",
    "Alphabets = ('a', 'e', 'i', 'o', 'u')\n",
    "\n",
    "if user_input in Alphabets:\n",
    "    print(\"This is a vowel\")\n",
    "\n",
    "else:\n",
    "    print(\"This is a consonent\")"
   ]
  },
  {
   "cell_type": "code",
   "execution_count": 3,
   "id": "61c53176-3b45-4069-acf8-c89d5d1af027",
   "metadata": {},
   "outputs": [
    {
     "name": "stdin",
     "output_type": "stream",
     "text": [
      "Enter any number: 8\n"
     ]
    },
    {
     "name": "stdout",
     "output_type": "stream",
     "text": [
      "8 x 1 = 8\n",
      "8 x 2 = 16\n",
      "8 x 3 = 24\n",
      "8 x 4 = 32\n",
      "8 x 5 = 40\n",
      "8 x 6 = 48\n",
      "8 x 7 = 56\n",
      "8 x 8 = 64\n",
      "8 x 9 = 72\n",
      "8 x 10 = 80\n"
     ]
    }
   ],
   "source": [
    "table = int(input(\"Enter any number:\"))\n",
    "for x in range(1,11):\n",
    "  print(table,'x',x,'=',x * table)  "
   ]
  },
  {
   "cell_type": "code",
   "execution_count": 4,
   "id": "1edb30a1-caf5-4723-8620-1dbf7195e88d",
   "metadata": {},
   "outputs": [
    {
     "data": {
      "text/plain": [
       "[{'student_id': 1, 'name': 'Ameer', 'height': '5.7', 'weight': '74'},\n",
       " {'student_id': 2, 'name': 'ghareeb', 'height': '6', 'weight': '64'},\n",
       " {'student_id': 3, 'name': 'middle class', 'height': '6.7', 'weight': '70'}]"
      ]
     },
     "execution_count": 4,
     "metadata": {},
     "output_type": "execute_result"
    }
   ],
   "source": [
    "my_students = [\n",
    "    {\"student_id\": 1, \"name\": \"Ameer\", \"height\": \"5.7\", \"weight\": \"74\"},\n",
    "    {\"student_id\": 2, \"name\": \"ghareeb\", \"height\": \"6\", \"weight\": \"64\"},\n",
    "    {\"student_id\": 3, \"name\": \"middle class\", \"height\": \"6.7\", \"weight\": \"70\"},\n",
    "    ]\n",
    "\n",
    "my_students"
   ]
  },
  {
   "cell_type": "code",
   "execution_count": 5,
   "id": "fb45ba78-1dd1-4f1c-896b-273f9b3d85c3",
   "metadata": {},
   "outputs": [
    {
     "name": "stdout",
     "output_type": "stream",
     "text": [
      "{'student_id': 1, 'name': 'Ameer', 'height': '5.7', 'weight': '74'}\n",
      "{'student_id': 2, 'name': 'ghareeb', 'height': '6', 'weight': '64'}\n",
      "{'student_id': 3, 'name': 'middle class', 'height': '6.7', 'weight': '70'}\n"
     ]
    }
   ],
   "source": [
    "students_sqft = []\n",
    "\n",
    "for students in my_students:\n",
    "    print(students)"
   ]
  },
  {
   "cell_type": "code",
   "execution_count": 6,
   "id": "86f44449-76bd-4485-a525-da5d9d9a64f1",
   "metadata": {},
   "outputs": [
    {
     "data": {
      "text/plain": [
       "[]"
      ]
     },
     "execution_count": 6,
     "metadata": {},
     "output_type": "execute_result"
    }
   ],
   "source": [
    "students_sqft = [students['student_id'] for students in my_students \\\n",
    "                 if students['height'] == '6ft' and students['weight'] == \"64\" ]\n",
    "students_sqft"
   ]
  },
  {
   "cell_type": "code",
   "execution_count": 7,
   "id": "328ce1ec-ec0f-4d81-bcf7-2cc97c984120",
   "metadata": {},
   "outputs": [
    {
     "data": {
      "text/plain": [
       "[]"
      ]
     },
     "execution_count": 7,
     "metadata": {},
     "output_type": "execute_result"
    }
   ],
   "source": [
    "students_sqft = [students['student_id'] for students in my_students \\\n",
    "                 if students['height'] == '6ft' and students['weight'] == \"64\" ]\n",
    "students_sqft"
   ]
  },
  {
   "cell_type": "code",
   "execution_count": 22,
   "id": "e081e7b3-4242-41c6-a0b2-22b9f26c1a14",
   "metadata": {},
   "outputs": [
    {
     "name": "stdout",
     "output_type": "stream",
     "text": [
      "\n",
      "Dictionary:\n",
      "{'C1': [10, 20, 30], 'C2': [20, 30, 40], 'C3': [12, 34]}\n",
      "\n",
      "Cleared dictionary:\n",
      "{'C1': [], 'C2': [], 'C3': []}\n"
     ]
    }
   ],
   "source": [
    "def test(dictionary):\n",
    "    for key in dictionary:\n",
    "        dictionary[key].clear()\n",
    "    return dictionary\n",
    "\n",
    "dictionary = { \n",
    "    'C1': [10, 20, 30], \n",
    "    'C2': [20, 30, 40],\n",
    "    'C3': [12, 34]\n",
    "}\n",
    "\n",
    "print(\"\\nDictionary:\")\n",
    "print(dictionary)\n",
    "\n",
    "print(\"\\nCleared dictionary:\")\n",
    "\n",
    "print(test(dictionary)) "
   ]
  },
  {
   "cell_type": "code",
   "execution_count": 11,
   "id": "fd4e194e-8537-458d-babe-a6ea538beb2a",
   "metadata": {},
   "outputs": [
    {
     "name": "stdout",
     "output_type": "stream",
     "text": [
      "The Amazon flows through Brazil.\n",
      "The Indus flows through Pakistan.\n",
      "The Nile flows through Egypt.\n",
      "The Parana flows through Uruguay.\n",
      "The Amur flows through Russia.\n",
      "\n",
      "Rivers in Data:\n",
      "Amazon\n",
      "Indus\n",
      "Nile\n",
      "Parana\n",
      "Amur\n",
      "\n",
      "Countries in Data:\n",
      "Brazil\n",
      "Pakistan\n",
      "Egypt\n",
      "Uruguay\n",
      "Russia\n"
     ]
    }
   ],
   "source": [
    "rivers = {\n",
    "    \"Amazon\":\"Brazil\",\n",
    "    \"Indus\":\"Pakistan\",\n",
    "    \"Nile\":\"Egypt\",\n",
    "    \"Parana\":\"Uruguay\",\n",
    "    \"Amur\":\"Russia\"\n",
    "}\n",
    "\n",
    "for river,country in rivers.items():\n",
    "    print(\"The \" + river.title() + \" flows through \" + country.title() + \".\")\n",
    "\n",
    "print(\"\\nRivers in Data:\")\n",
    "for river in rivers.keys():\n",
    "    print(river.title())\n",
    "\n",
    "print(\"\\nCountries in Data:\")\n",
    "for country in rivers.values():\n",
    "    print(country.title())"
   ]
  },
  {
   "cell_type": "code",
   "execution_count": null,
   "id": "874688bc-0a3c-4585-a567-d0f0f0d3c46f",
   "metadata": {},
   "outputs": [],
   "source": [
    "age = input(\"Enter your age\") \n",
    "\n",
    "while True:\n",
    "    if age == 'quit':\n",
    "        break\n",
    "    age = int(age)\n",
    "\n",
    "    if age < 3:\n",
    "        print(\" You get in free!\")\n",
    "    elif 3 < age < 12:\n",
    "        print(\" Your ticket is $10.\")\n",
    "    else:\n",
    "        print(\"Your ticket is $15.\")"
   ]
  },
  {
   "cell_type": "code",
   "execution_count": null,
   "id": "fd550b30-dcca-4993-8870-16beab342948",
   "metadata": {},
   "outputs": [],
   "source": []
  }
 ],
 "metadata": {
  "kernelspec": {
   "display_name": "Python 3 (ipykernel)",
   "language": "python",
   "name": "python3"
  },
  "language_info": {
   "codemirror_mode": {
    "name": "ipython",
    "version": 3
   },
   "file_extension": ".py",
   "mimetype": "text/x-python",
   "name": "python",
   "nbconvert_exporter": "python",
   "pygments_lexer": "ipython3",
   "version": "3.12.4"
  }
 },
 "nbformat": 4,
 "nbformat_minor": 5
}
